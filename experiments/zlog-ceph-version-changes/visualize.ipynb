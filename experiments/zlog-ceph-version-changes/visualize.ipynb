{
 "cells": [
  {
   "cell_type": "code",
   "execution_count": 216,
   "metadata": {
    "collapsed": false
   },
   "outputs": [],
   "source": [
    "import sys\n",
    "import glob\n",
    "import os\n",
    "import re\n",
    "import pandas as pd\n",
    "import matplotlib\n",
    "import matplotlib.pyplot as plt\n",
    "import numpy as np\n",
    "%matplotlib inline\n",
    "f = open(os.devnull, 'w')\n",
    "sys.stdout = f"
   ]
  },
  {
   "cell_type": "code",
   "execution_count": 217,
   "metadata": {
    "collapsed": true
   },
   "outputs": [],
   "source": [
    "def parse_filename(filename):\n",
    "    fn_re = \"pool-(?P<pool>.+)_expr-(?P<expr>.+)_sw-(?P<sw>\\d+)\"\n",
    "    fn_re = fn_re + \"_es-(?P<es>\\d+)_qd-(?P<qd>\\d+)_pg-(?P<pg>\\d+)\"\n",
    "    fn_re = fn_re + \"_rt-(?P<rt>\\d+)_if-(?P<if>.+)_cv.*\\.log\"\n",
    "    fn_re = re.compile(fn_re)\n",
    "    match = fn_re.match(os.path.basename(filename))\n",
    "    assert match\n",
    "    return match"
   ]
  },
  {
   "cell_type": "code",
   "execution_count": 218,
   "metadata": {
    "collapsed": false
   },
   "outputs": [],
   "source": [
    "def short_ename(ename):\n",
    "    mapping = {\n",
    "        'bytestream_n1_write': 'n1wr',\n",
    "        'bytestream_n1_append': 'n1ap',\n",
    "        'bytestream_11': '11wr',\n",
    "        'map_n1': 'n1kv',\n",
    "        'map_11': '11kv'\n",
    "    }\n",
    "    return mapping[ename]\n",
    "\n",
    "def short_iface(iface):\n",
    "    mapping = {\n",
    "        'cls_full': 'XATTR',\n",
    "        'cls_full_hdr_idx': 'data',\n",
    "        'vanilla': 'librados',\n",
    "        'cls_check_epoch': 'xattr (no index)',\n",
    "        'cls_no_index_wronly': 'data (raw)',\n",
    "        'cls_check_epoch_hdr': 'data (epoch)'\n",
    "    }\n",
    "    return mapping[iface]"
   ]
  },
  {
   "cell_type": "code",
   "execution_count": 227,
   "metadata": {
    "collapsed": true
   },
   "outputs": [],
   "source": [
    "def read_trace(filename, trimFrontSec=30, trimBackSec=30):\n",
    "    ### read up raw throughput file\n",
    "    trace = pd.read_table(filename, sep=\" \",\n",
    "        header=None, names=(\"completed\", \"throughput\"))\n",
    "    \n",
    "    ### shift timeseries to have zero start time\n",
    "    trace.completed = pd.to_datetime(trace.completed, unit=\"ns\")\n",
    "    trace.completed = trace.completed - min(trace.completed)\n",
    "    trace.completed = trace.completed / pd.Timedelta(seconds=1)\n",
    "    \n",
    "    ### trim front and back of trace\n",
    "    trace = trace[(trace.completed > trimFrontSec) & (trace.completed <\n",
    "        max(trace.completed) - trimBackSec)]\n",
    "    trace.completed = trace.completed - min(trace.completed)\n",
    "    \n",
    "    ### order like a time series by the completion time of the I/O\n",
    "    trace.sort_values(by='completed', ascending=True, inplace=True)\n",
    "    return trace"
   ]
  },
  {
   "cell_type": "code",
   "execution_count": 231,
   "metadata": {
    "collapsed": true
   },
   "outputs": [],
   "source": [
    "def plot_throughput_trace(trace, md, ax):\n",
    "    trace.throughput = pd.rolling_mean(trace.throughput, window=5, min_periods=1)\n",
    "    ename = short_ename(md.group('expr'))\n",
    "    iface = short_iface(md.group('if'))\n",
    "    label = iface\n",
    "    ax.plot(trace.completed, trace.throughput, label=label)\n",
    "    ax.set_title('Storing Metadata in XATTR vs. Data')\n",
    "    ax.set_ylabel('Appends per Second')\n",
    "    ax.set_xlabel('Time (Sec)')"
   ]
  },
  {
   "cell_type": "code",
   "execution_count": 232,
   "metadata": {
    "collapsed": false
   },
   "outputs": [],
   "source": [
    "def plot_traces(traces, fn, finish=True):\n",
    "    fig = plt.figure()\n",
    "    ax = fig.add_subplot(111)\n",
    "    for filename in traces:\n",
    "        trace_data = read_trace(filename)\n",
    "        md = parse_filename(filename)\n",
    "        print os.path.basename(filename), 'mean', trace_data.throughput.mean()\n",
    "        plot_throughput_trace(trace_data, md, ax)\n",
    "    if finish:\n",
    "        lgd = ax.legend(loc='center left', bbox_to_anchor=(0.82, 0.0))\n",
    "        plt.savefig(fn + '.png', dpi=300, bbox_inches='tight', bbox_extra_artists=(lgd,))\n",
    "    else:\n",
    "        return ax"
   ]
  },
  {
   "cell_type": "code",
   "execution_count": 240,
   "metadata": {
    "collapsed": false
   },
   "outputs": [
    {
     "data": {
      "image/png": "[encoded data removed]",
      "text/plain": [
       "<matplotlib.figure.Figure at 0x7f63bcf73110>"
      ]
     },
     "metadata": {},
     "output_type": "display_data"
    }
   ],
   "source": [
    "# Ingest the input\n",
    "traces_all_ops = \"zlog-popper/experiments/basic-cls-overhead/results.pd.basic_cls_overhead.node0.04-22-2016_00-48-56/*_es-1024_*cls_full*.log\"\n",
    "trace_raw_data = \"zlog-popper/experiments/basic-cls-overhead/results.pd.basic_cls_overhead.node0.04-22-2016_00-48-56/*_es-1024_*cls_no_index_wronly*.log\"\n",
    "traces = glob.glob(traces_all_ops) + glob.glob(trace_raw_data)\n",
    "\n",
    "# Plot it\n",
    "ax = plot_traces(traces, 'cls_xattr-vs-data.png', finish=False)\n",
    "ax.set_ylim(0, 20000)\n",
    "ax.set_xlim(0, 3500)\n",
    "ax.legend(loc='best', ncol=3, bbox_to_anchor=(0.84,0.0), bbox_transform=plt.gcf().transFigure)\n",
    "plt.savefig('cls_xattr-vs-data.png', dpi=300, bbox_inches='tight')"
   ]
  },
  {
   "cell_type": "code",
   "execution_count": null,
   "metadata": {
    "collapsed": true
   },
   "outputs": [],
   "source": []
  }
 ],
 "metadata": {
  "kernelspec": {
   "display_name": "Python 2",
   "language": "python",
   "name": "python2"
  },
  "language_info": {
   "codemirror_mode": {
    "name": "ipython",
    "version": 2
   },
   "file_extension": ".py",
   "mimetype": "text/x-python",
   "name": "python",
   "nbconvert_exporter": "python",
   "pygments_lexer": "ipython2",
   "version": "2.7.11"
  }
 },
 "nbformat": 4,
 "nbformat_minor": 0
}
