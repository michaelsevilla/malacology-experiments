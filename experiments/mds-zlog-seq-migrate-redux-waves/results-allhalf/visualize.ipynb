{
 "cells": [
  {
   "cell_type": "code",
   "execution_count": 1,
   "metadata": {
    "collapsed": false
   },
   "outputs": [
    {
     "name": "stderr",
     "output_type": "stream",
     "text": [
      "/opt/conda/envs/python2/lib/python2.7/site-packages/matplotlib/font_manager.py:273: UserWarning: Matplotlib is building the font cache using fc-list. This may take a moment.\n",
      "  warnings.warn('Matplotlib is building the font cache using fc-list. This may take a moment.')\n"
     ]
    }
   ],
   "source": [
    "import sys\n",
    "import glob\n",
    "import os\n",
    "import re\n",
    "import pandas as pd\n",
    "import matplotlib\n",
    "import matplotlib.pyplot as plt\n",
    "import numpy as np\n",
    "import datetime\n",
    "%matplotlib inline"
   ]
  },
  {
   "cell_type": "code",
   "execution_count": 2,
   "metadata": {
    "collapsed": true
   },
   "outputs": [],
   "source": [
    "def sum_throughput(trace):\n",
    "    s = []\n",
    "    for t in trace:\n",
    "        trace = pd.read_table(t, header=None, sep=(\",\"),names=(\"seconds\", \"rate\"))\n",
    "        if len(s) == 0: s = trace\n",
    "        else: s += trace\n",
    "    return s"
   ]
  },
  {
   "cell_type": "code",
   "execution_count": 9,
   "metadata": {
    "collapsed": false
   },
   "outputs": [
    {
     "data": {
      "image/png": "[encoded data removed]",
      "text/plain": [
       "<matplotlib.figure.Figure at 0x7fc8ad8a5590>"
      ]
     },
     "metadata": {},
     "output_type": "display_data"
    }
   ],
   "source": [
    "fig = plt.figure()\n",
    "ax = fig.add_subplot(111)\n",
    "\n",
    "s = sum_throughput(glob.glob(\"test-issdm-*throughput.csv\"))\n",
    "ax.plot(range(0, len(s['rate'])), s['rate'], \n",
    "        'r-', marker='o', linewidth=2.0, label=\"Migrate All\")\n",
    "\n",
    "s = sum_throughput(glob.glob(\"proxy-again-half-issdm-*throughput.csv\"))\n",
    "ax.plot(range(0, len(s['rate'])), s['rate'], \n",
    "        'g-', marker='o', linewidth=2.0, label=\"Migrate Half\")\n",
    "\n",
    "#s = sum_throughput(glob.glob(\"3seq-baseline-issdm-*throughput.csv\"))\n",
    "#ax.plot(range(0, len(s['rate'])), s['rate'], \n",
    "#        'y-', marker='o', linewidth=2.0, label=\"3 Sequencers\")\n",
    "\n",
    "#s = sum_throughput(glob.glob(\"4seq-baseline-issdm-*throughput.csv\"))\n",
    "#ax.plot(range(0, len(s['rate'])), s['rate'], \n",
    "#        'y-', marker='o', linewidth=2.0, label=\"4 Sequencers\")\n",
    "\n",
    "#s = sum_throughput(glob.glob(\"5seq-baseline-issdm-*throughput.csv\"))\n",
    "#ax.plot(range(0, len(s['rate'])), s['rate'], \n",
    "#        'y-', marker='o', linewidth=2.0, label=\"5 Sequencers\")\n",
    "\n",
    "#s = sum_throughput(glob.glob(\"6seq-baseline-issdm-*throughput.csv\"))\n",
    "#ax.plot(range(0, len(s['rate'])), s['rate'], \n",
    "#        'y-', marker='o', linewidth=2.0, label=\"6 Sequencers\")\n",
    "\n",
    "ax.set_ylim(1500, 2500)\n",
    "ax.set_xlabel(\"seconds\")\n",
    "ax.set_ylabel(\"Operations per second\")\n",
    "lgd = ax.legend(loc='center', bbox_to_anchor=(1.5, 0.8))"
   ]
  },
  {
   "cell_type": "code",
   "execution_count": 102,
   "metadata": {
    "collapsed": false
   },
   "outputs": [
    {
     "data": {
      "text/html": [
       "<div>\n",
       "<table border=\"1\" class=\"dataframe\">\n",
       "  <thead>\n",
       "    <tr style=\"text-align: right;\">\n",
       "      <th></th>\n",
       "      <th>seconds</th>\n",
       "      <th>1</th>\n",
       "      <th>2</th>\n",
       "      <th>3</th>\n",
       "      <th>4</th>\n",
       "      <th>5</th>\n",
       "      <th>6</th>\n",
       "    </tr>\n",
       "  </thead>\n",
       "  <tbody>\n",
       "    <tr>\n",
       "      <th>10</th>\n",
       "      <td>50:50:</td>\n",
       "      <td>1483</td>\n",
       "      <td>2756</td>\n",
       "      <td>3060</td>\n",
       "      <td>3097</td>\n",
       "      <td>2939</td>\n",
       "      <td>3070</td>\n",
       "    </tr>\n",
       "    <tr>\n",
       "      <th>11</th>\n",
       "      <td>55:55:</td>\n",
       "      <td>1526</td>\n",
       "      <td>2792</td>\n",
       "      <td>3110</td>\n",
       "      <td>3106</td>\n",
       "      <td>3002</td>\n",
       "      <td>3073</td>\n",
       "    </tr>\n",
       "    <tr>\n",
       "      <th>12</th>\n",
       "      <td>60:60:</td>\n",
       "      <td>1524</td>\n",
       "      <td>2774</td>\n",
       "      <td>3109</td>\n",
       "      <td>3042</td>\n",
       "      <td>2983</td>\n",
       "      <td>3072</td>\n",
       "    </tr>\n",
       "    <tr>\n",
       "      <th>13</th>\n",
       "      <td>65:65:</td>\n",
       "      <td>1442</td>\n",
       "      <td>2782</td>\n",
       "      <td>3069</td>\n",
       "      <td>3058</td>\n",
       "      <td>2970</td>\n",
       "      <td>3076</td>\n",
       "    </tr>\n",
       "    <tr>\n",
       "      <th>14</th>\n",
       "      <td>70:70:</td>\n",
       "      <td>1504</td>\n",
       "      <td>2736</td>\n",
       "      <td>3055</td>\n",
       "      <td>3053</td>\n",
       "      <td>2968</td>\n",
       "      <td>3061</td>\n",
       "    </tr>\n",
       "  </tbody>\n",
       "</table>\n",
       "</div>"
      ],
      "text/plain": [
       "   seconds     1     2     3     4     5     6\n",
       "10  50:50:  1483  2756  3060  3097  2939  3070\n",
       "11  55:55:  1526  2792  3110  3106  3002  3073\n",
       "12  60:60:  1524  2774  3109  3042  2983  3072\n",
       "13  65:65:  1442  2782  3069  3058  2970  3076\n",
       "14  70:70:  1504  2736  3055  3053  2968  3061"
      ]
     },
     "execution_count": 102,
     "metadata": {},
     "output_type": "execute_result"
    },
    {
     "data": {
      "image/png": "[encoded data removed]",
      "text/plain": [
       "<matplotlib.figure.Figure at 0x7f64cc2deb50>"
      ]
     },
     "metadata": {},
     "output_type": "display_data"
    }
   ],
   "source": [
    "# Get the sum of all the 1 sequencer experiment throughputs\n",
    "df = sum_throughput(glob.glob(\"1seq-baseline-issdm-*throughput.csv\"))\n",
    "df.columns = ['seconds', '1']\n",
    "\n",
    "# Append all the dfs together into one table\n",
    "for i in [2, 3, 4, 5, 6]:\n",
    "    s = sum_throughput(glob.glob(str(i) + \"seq-baseline-issdm-*throughput.csv\"))\n",
    "    name = str(i) \n",
    "    s.columns = ['seconds', name]\n",
    "    df = pd.concat([df, s[name]], axis=1)\n",
    "\n",
    "# Trim off the unstable throughputs\n",
    "df = df.drop(df.index[range(0, 10)])\n",
    "df = df.drop(df.index[range(30, len(df))])\n",
    "ax = (df.mean()/df['1'].mean()).plot.bar()\n",
    "ax.set_xlabel(\"# Sequencers\")\n",
    "ax.set_ylabel(\"Speedup\")\n",
    "x = ax.set_title(\"Speedup compared to 1 Sequencer\")\n",
    "\n",
    "df.head()"
   ]
  },
  {
   "cell_type": "code",
   "execution_count": null,
   "metadata": {
    "collapsed": true
   },
   "outputs": [],
   "source": []
  }
 ],
 "metadata": {
  "kernelspec": {
   "display_name": "Python 2",
   "language": "python",
   "name": "python2"
  },
  "language_info": {
   "codemirror_mode": {
    "name": "ipython",
    "version": 2
   },
   "file_extension": ".py",
   "mimetype": "text/x-python",
   "name": "python",
   "nbconvert_exporter": "python",
   "pygments_lexer": "ipython2",
   "version": "2.7.11"
  },
  "widgets": {
   "state": {},
   "version": "1.1.2"
  }
 },
 "nbformat": 4,
 "nbformat_minor": 0
}
